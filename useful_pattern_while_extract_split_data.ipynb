{
  "nbformat": 4,
  "nbformat_minor": 0,
  "metadata": {
    "colab": {
      "name": "useful pattern while extract/split data.ipynb",
      "provenance": [],
      "collapsed_sections": [],
      "authorship_tag": "ABX9TyNT7aSiyDE5b0BZrNQzmYzb",
      "include_colab_link": true
    },
    "kernelspec": {
      "name": "python3",
      "display_name": "Python 3"
    }
  },
  "cells": [
    {
      "cell_type": "markdown",
      "metadata": {
        "id": "view-in-github",
        "colab_type": "text"
      },
      "source": [
        "<a href=\"https://colab.research.google.com/github/connectkishan1/Pandas-Practice/blob/master/useful_pattern_while_extract_split_data.ipynb\" target=\"_parent\"><img src=\"https://colab.research.google.com/assets/colab-badge.svg\" alt=\"Open In Colab\"/></a>"
      ]
    },
    {
      "cell_type": "code",
      "metadata": {
        "id": "8iBV7ofnO8lK",
        "colab_type": "code",
        "colab": {}
      },
      "source": [
        "import numpy as np\n",
        "import pandas as pd\n",
        "import re"
      ],
      "execution_count": 171,
      "outputs": []
    },
    {
      "cell_type": "markdown",
      "metadata": {
        "id": "X_H6mDh7avJ-",
        "colab_type": "text"
      },
      "source": [
        "### Series.str.extract(pattern, string, flags=0))\n",
        "\n",
        "- \\w matches alphanumeric characters\n",
        "- \\d matches digits, which means 0-9\n",
        "- \\s matches whitespace characters\n",
        "- \\S matches non-whitespace characters\n",
        "- . matches any character except the new line character \\n\n",
        "- *matches 0 or more instances of a pattern"
      ]
    },
    {
      "cell_type": "code",
      "metadata": {
        "id": "eDoq8hvSciJh",
        "colab_type": "code",
        "colab": {
          "base_uri": "https://localhost:8080/",
          "height": 85
        },
        "outputId": "8ee3af0b-3a2d-4d65-904e-ef1ad2626e27"
      },
      "source": [
        "dict = {'movie_data':['The Godfather 1972 9.2', \n",
        "                    'Bird Box 2018 6.8', \n",
        "                    'Fight Club 1999 8.8'] } \n",
        "  \n",
        "# Convert the dictionary to a dataframe \n",
        "df = pd.DataFrame(dict) \n",
        "  \n",
        "# Extract name from the string  \n",
        "df['Name'] = df['movie_data'].str.extract('(\\w*\\s\\w*)', expand=True) \n",
        "   \n",
        "# Extract year from the string  \n",
        "df['Year'] = df['movie_data'].str.extract('(\\d\\d\\d\\d)', expand=True) \n",
        "  \n",
        "# Extract rating from the string  \n",
        "df['Rating'] = df['movie_data'].str.extract('(\\d\\.\\d)', expand=True) \n",
        "print(df)"
      ],
      "execution_count": 229,
      "outputs": [
        {
          "output_type": "stream",
          "text": [
            "               movie_data           Name  Year Rating\n",
            "0  The Godfather 1972 9.2  The Godfather  1972    9.2\n",
            "1       Bird Box 2018 6.8       Bird Box  2018    6.8\n",
            "2     Fight Club 1999 8.8     Fight Club  1999    8.8\n"
          ],
          "name": "stdout"
        }
      ]
    },
    {
      "cell_type": "code",
      "metadata": {
        "id": "c7JM4zb_7wpp",
        "colab_type": "code",
        "colab": {}
      },
      "source": [
        "a=[[\"Mr-kishan#kumar@kumar10$dec+1992\"],[\"kishan#kumar\"]]#list"
      ],
      "execution_count": 221,
      "outputs": []
    },
    {
      "cell_type": "code",
      "metadata": {
        "id": "WTQ2E6GARB3S",
        "colab_type": "code",
        "colab": {
          "base_uri": "https://localhost:8080/",
          "height": 51
        },
        "outputId": "571766b3-d0e4-4973-9729-5fa7ad8412c2"
      },
      "source": [
        "b=np.array(a)#converted to array\n",
        "b"
      ],
      "execution_count": 222,
      "outputs": [
        {
          "output_type": "execute_result",
          "data": {
            "text/plain": [
              "array([['Mr-kishan#kumar@kumar10$dec+1992'],\n",
              "       ['kishan#kumar']], dtype='<U32')"
            ]
          },
          "metadata": {
            "tags": []
          },
          "execution_count": 222
        }
      ]
    },
    {
      "cell_type": "code",
      "metadata": {
        "id": "TEJ0nAS-S5OI",
        "colab_type": "code",
        "colab": {
          "base_uri": "https://localhost:8080/",
          "height": 111
        },
        "outputId": "6cacfb26-57d7-4a40-c593-812bdd06e240"
      },
      "source": [
        "df1=pd.DataFrame(b)#converted to Dataframe \n",
        "df1"
      ],
      "execution_count": 230,
      "outputs": [
        {
          "output_type": "execute_result",
          "data": {
            "text/html": [
              "<div>\n",
              "<style scoped>\n",
              "    .dataframe tbody tr th:only-of-type {\n",
              "        vertical-align: middle;\n",
              "    }\n",
              "\n",
              "    .dataframe tbody tr th {\n",
              "        vertical-align: top;\n",
              "    }\n",
              "\n",
              "    .dataframe thead th {\n",
              "        text-align: right;\n",
              "    }\n",
              "</style>\n",
              "<table border=\"1\" class=\"dataframe\">\n",
              "  <thead>\n",
              "    <tr style=\"text-align: right;\">\n",
              "      <th></th>\n",
              "      <th>0</th>\n",
              "    </tr>\n",
              "  </thead>\n",
              "  <tbody>\n",
              "    <tr>\n",
              "      <th>0</th>\n",
              "      <td>Mr-kishan#kumar@kumar10$dec+1992</td>\n",
              "    </tr>\n",
              "    <tr>\n",
              "      <th>1</th>\n",
              "      <td>kishan#kumar</td>\n",
              "    </tr>\n",
              "  </tbody>\n",
              "</table>\n",
              "</div>"
            ],
            "text/plain": [
              "                                  0\n",
              "0  Mr-kishan#kumar@kumar10$dec+1992\n",
              "1                      kishan#kumar"
            ]
          },
          "metadata": {
            "tags": []
          },
          "execution_count": 230
        }
      ]
    },
    {
      "cell_type": "code",
      "metadata": {
        "id": "2zNkxeTmUcwx",
        "colab_type": "code",
        "colab": {
          "base_uri": "https://localhost:8080/",
          "height": 111
        },
        "outputId": "7a4ff80d-e110-499e-f415-c4d2b4088552"
      },
      "source": [
        "df1[0].str.extract('([a-zA-Z0-9]+)',expand=True)"
      ],
      "execution_count": 231,
      "outputs": [
        {
          "output_type": "execute_result",
          "data": {
            "text/html": [
              "<div>\n",
              "<style scoped>\n",
              "    .dataframe tbody tr th:only-of-type {\n",
              "        vertical-align: middle;\n",
              "    }\n",
              "\n",
              "    .dataframe tbody tr th {\n",
              "        vertical-align: top;\n",
              "    }\n",
              "\n",
              "    .dataframe thead th {\n",
              "        text-align: right;\n",
              "    }\n",
              "</style>\n",
              "<table border=\"1\" class=\"dataframe\">\n",
              "  <thead>\n",
              "    <tr style=\"text-align: right;\">\n",
              "      <th></th>\n",
              "      <th>0</th>\n",
              "    </tr>\n",
              "  </thead>\n",
              "  <tbody>\n",
              "    <tr>\n",
              "      <th>0</th>\n",
              "      <td>Mr</td>\n",
              "    </tr>\n",
              "    <tr>\n",
              "      <th>1</th>\n",
              "      <td>kishan</td>\n",
              "    </tr>\n",
              "  </tbody>\n",
              "</table>\n",
              "</div>"
            ],
            "text/plain": [
              "        0\n",
              "0      Mr\n",
              "1  kishan"
            ]
          },
          "metadata": {
            "tags": []
          },
          "execution_count": 231
        }
      ]
    },
    {
      "cell_type": "code",
      "metadata": {
        "id": "JFkvDREYXUT-",
        "colab_type": "code",
        "colab": {
          "base_uri": "https://localhost:8080/",
          "height": 111
        },
        "outputId": "a5c77638-da2b-4fd3-94ff-3447764496f8"
      },
      "source": [
        "df1[0].str.split('([a-zA-Z0-9]+)',expand=True)"
      ],
      "execution_count": 232,
      "outputs": [
        {
          "output_type": "execute_result",
          "data": {
            "text/html": [
              "<div>\n",
              "<style scoped>\n",
              "    .dataframe tbody tr th:only-of-type {\n",
              "        vertical-align: middle;\n",
              "    }\n",
              "\n",
              "    .dataframe tbody tr th {\n",
              "        vertical-align: top;\n",
              "    }\n",
              "\n",
              "    .dataframe thead th {\n",
              "        text-align: right;\n",
              "    }\n",
              "</style>\n",
              "<table border=\"1\" class=\"dataframe\">\n",
              "  <thead>\n",
              "    <tr style=\"text-align: right;\">\n",
              "      <th></th>\n",
              "      <th>0</th>\n",
              "      <th>1</th>\n",
              "      <th>2</th>\n",
              "      <th>3</th>\n",
              "      <th>4</th>\n",
              "      <th>5</th>\n",
              "      <th>6</th>\n",
              "      <th>7</th>\n",
              "      <th>8</th>\n",
              "      <th>9</th>\n",
              "      <th>10</th>\n",
              "      <th>11</th>\n",
              "      <th>12</th>\n",
              "    </tr>\n",
              "  </thead>\n",
              "  <tbody>\n",
              "    <tr>\n",
              "      <th>0</th>\n",
              "      <td></td>\n",
              "      <td>Mr</td>\n",
              "      <td>-</td>\n",
              "      <td>kishan</td>\n",
              "      <td>#</td>\n",
              "      <td>kumar</td>\n",
              "      <td>@</td>\n",
              "      <td>kumar10</td>\n",
              "      <td>$</td>\n",
              "      <td>dec</td>\n",
              "      <td>+</td>\n",
              "      <td>1992</td>\n",
              "      <td></td>\n",
              "    </tr>\n",
              "    <tr>\n",
              "      <th>1</th>\n",
              "      <td></td>\n",
              "      <td>kishan</td>\n",
              "      <td>#</td>\n",
              "      <td>kumar</td>\n",
              "      <td></td>\n",
              "      <td>None</td>\n",
              "      <td>None</td>\n",
              "      <td>None</td>\n",
              "      <td>None</td>\n",
              "      <td>None</td>\n",
              "      <td>None</td>\n",
              "      <td>None</td>\n",
              "      <td>None</td>\n",
              "    </tr>\n",
              "  </tbody>\n",
              "</table>\n",
              "</div>"
            ],
            "text/plain": [
              "  0       1  2       3  4      5     6        7     8     9    10    11    12\n",
              "0        Mr  -  kishan  #  kumar     @  kumar10     $   dec     +  1992      \n",
              "1    kishan  #   kumar      None  None     None  None  None  None  None  None"
            ]
          },
          "metadata": {
            "tags": []
          },
          "execution_count": 232
        }
      ]
    },
    {
      "cell_type": "code",
      "metadata": {
        "id": "7Jg2PDytXuyK",
        "colab_type": "code",
        "colab": {}
      },
      "source": [
        "c=\"Mr-kishan#kumar@kumar10$dec+1992\"#list"
      ],
      "execution_count": 215,
      "outputs": []
    },
    {
      "cell_type": "code",
      "metadata": {
        "id": "jxP9UvKmDKoW",
        "colab_type": "code",
        "colab": {
          "base_uri": "https://localhost:8080/",
          "height": 34
        },
        "outputId": "7535d557-2da9-4322-ccd4-0183e89beb81"
      },
      "source": [
        "print(re.split('\\d+', c))"
      ],
      "execution_count": 216,
      "outputs": [
        {
          "output_type": "stream",
          "text": [
            "['Mr-kishan#kumar@kumar', '$dec+', '']\n"
          ],
          "name": "stdout"
        }
      ]
    },
    {
      "cell_type": "code",
      "metadata": {
        "id": "18TC_SIhEAtp",
        "colab_type": "code",
        "colab": {
          "base_uri": "https://localhost:8080/",
          "height": 34
        },
        "outputId": "eb4f5289-868b-4ea4-a2e0-0b1261846c07"
      },
      "source": [
        "d=re.split('[-+#@$]', c)#\n",
        "d"
      ],
      "execution_count": 218,
      "outputs": [
        {
          "output_type": "execute_result",
          "data": {
            "text/plain": [
              "['Mr', 'kishan', 'kumar', 'kumar10', 'dec', '1992']"
            ]
          },
          "metadata": {
            "tags": []
          },
          "execution_count": 218
        }
      ]
    },
    {
      "cell_type": "markdown",
      "metadata": {
        "id": "yMyr-GvzNMvM",
        "colab_type": "text"
      },
      "source": [
        "### [a-zA-Z0-9]+ \n",
        "its a pattern that matches against a string of any length, as long as the string contains only lowercase letters ( a-z ), uppercase letters ( A-Z ), or numerals ( 0-9 )"
      ]
    },
    {
      "cell_type": "code",
      "metadata": {
        "id": "DDWRYJpJMRCH",
        "colab_type": "code",
        "colab": {
          "base_uri": "https://localhost:8080/",
          "height": 238
        },
        "outputId": "48aaaade-b041-482f-9b9a-03dd5fa99651"
      },
      "source": [
        "d2=re.split('([a-zA-Z0-9]+)',c)\n",
        "d2"
      ],
      "execution_count": 220,
      "outputs": [
        {
          "output_type": "execute_result",
          "data": {
            "text/plain": [
              "['',\n",
              " 'Mr',\n",
              " '-',\n",
              " 'kishan',\n",
              " '#',\n",
              " 'kumar',\n",
              " '@',\n",
              " 'kumar10',\n",
              " '$',\n",
              " 'dec',\n",
              " '+',\n",
              " '1992',\n",
              " '']"
            ]
          },
          "metadata": {
            "tags": []
          },
          "execution_count": 220
        }
      ]
    }
  ]
}